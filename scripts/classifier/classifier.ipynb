{
 "metadata": {
  "language_info": {
   "codemirror_mode": {
    "name": "ipython",
    "version": 3
   },
   "file_extension": ".py",
   "mimetype": "text/x-python",
   "name": "python",
   "nbconvert_exporter": "python",
   "pygments_lexer": "ipython3",
   "version": "3.6.4-final"
  },
  "orig_nbformat": 2,
  "kernelspec": {
   "name": "python3",
   "display_name": "Python 3.6.4 64-bit ('nfl')",
   "metadata": {
    "interpreter": {
     "hash": "e30599d7f353069b7d48b33cea74e2cf40593e9b87e2b3720e2cc41af1fc546b"
    }
   }
  }
 },
 "nbformat": 4,
 "nbformat_minor": 2,
 "cells": [
  {
   "cell_type": "code",
   "execution_count": 1,
   "metadata": {},
   "outputs": [],
   "source": [
    "from timm.models.efficientnet import tf_efficientnet_b4_ns, tf_efficientnet_b3_ns, \\\n",
    "    tf_efficientnet_b5_ns, tf_efficientnet_b2_ns, tf_efficientnet_b6_ns, tf_efficientnet_b7_ns\n",
    "import torch\n",
    "import torch.nn as nn\n",
    "from torch.nn.modules.dropout import Dropout\n",
    "from torch.nn.modules.linear import Linear\n",
    "from torch.nn.modules.pooling import AdaptiveAvgPool2d\n",
    "import torch.optim as optim\n",
    "\n",
    "import cv2\n",
    "import numpy as np\n",
    "import pandas as pd\n",
    "import albumentations as A\n",
    "from albumentations.pytorch.transforms import ToTensorV2\n",
    "from model import ImpactClassifier"
   ]
  },
  {
   "cell_type": "code",
   "execution_count": 2,
   "metadata": {},
   "outputs": [],
   "source": [
    "class TrainClassifierConfig:\n",
    "    #network = \"DeepFakeClassifier\"\n",
    "    #restore_from = '../experiments/effdet5_ds_only_impact_master_23_12_2020/best-checkpoint-011epoch.bin'\n",
    "    #resume_training = True\n",
    "    num_workers = 4\n",
    "    batch_size = 32\n",
    "    n_epochs = 30\n",
    "    lr = 1e-3\n",
    "    folder = '../../experiments/classifiers/effnet7_baseline'\n",
    "\n",
    "    dataset_name = 'dataset_only_impact_conf_1_vsb_0'\n",
    "    verbose = True\n",
    "    verbose_step = 1\n",
    "    step_scheduler = False\n",
    "    validation_scheduler = False\n",
    "    cosine_annealing = True\n",
    "    label_smoothing = 0.01\n",
    "    margin = 2.5\n",
    "\n",
    "    encoder = {\n",
    "                #\"name\" : tf_efficientnet_b7_ns,\n",
    "                #\"features\": 2560\n",
    "                \"name\" : tf_efficientnet_b7_ns,\n",
    "                \"features\": 2560\n",
    "              }\n",
    "    \n",
    "    \n",
    "    optimizer = {\n",
    "        \"type\": \"SGD\",\n",
    "        \"momentum\": 0.9,\n",
    "        \"weight_decay\": 1e-4,\n",
    "        \"learning_rate\": 0.01,\n",
    "        \"nesterov\": True,\n",
    "        \"schedule\": {\n",
    "            \"type\": \"poly\",\n",
    "            \"mode\": \"step\",\n",
    "            \"epochs\": 40,\n",
    "            \"params\": {\"max_iter\":  100500}\n",
    "        }\n",
    "    }"
   ]
  },
  {
   "cell_type": "code",
   "execution_count": 3,
   "metadata": {},
   "outputs": [],
   "source": [
    "config = TrainClassifierConfig\n",
    "model = ImpactClassifier(encoder=config.encoder)\n",
    "device = torch.device('cuda:1')\n",
    "model = model.to(device)"
   ]
  },
  {
   "cell_type": "code",
   "execution_count": 4,
   "metadata": {},
   "outputs": [],
   "source": [
    "optimizer = optim.Adam(model.parameters(),\n",
    "                       lr=config.optimizer[\"learning_rate\"],\n",
    "                       weight_decay=config.optimizer[\"weight_decay\"])\n",
    "\n",
    "#scheduler = create_optimizer(conf['optimizer'], model)"
   ]
  },
  {
   "cell_type": "code",
   "execution_count": 5,
   "metadata": {},
   "outputs": [],
   "source": [
    "bce_best = 100\n",
    "start_epoch = 0\n",
    "batch_size = 8#config.optimizer['batch_size']"
   ]
  },
  {
   "cell_type": "code",
   "execution_count": 6,
   "metadata": {},
   "outputs": [],
   "source": [
    "def get_train_transforms():\n",
    "    return A.Compose(\n",
    "        [\n",
    "            A.Normalize(),\n",
    "            A.Resize(height=128, width=128, p=1),\n",
    "            ToTensorV2(p=1.0),\n",
    "        ]\n",
    "    )\n",
    "def get_valid_transforms():\n",
    "    return A.Compose(\n",
    "        [   \n",
    "            A.Normalize(),\n",
    "            A.Resize(height=128, width=128, p=1),\n",
    "            ToTensorV2(p=1.0),\n",
    "        ]\n",
    "    )"
   ]
  },
  {
   "cell_type": "code",
   "execution_count": 7,
   "metadata": {},
   "outputs": [],
   "source": [
    "train_video_labels = pd.read_csv(f'../../data/{config.dataset_name}/train_video_labels.csv', index_col=0)\n",
    "val_video_labels = pd.read_csv(f'../../data/{config.dataset_name}/val_video_labels.csv',  index_col=0)\n",
    "image_dir = '../../data/train_images_all'"
   ]
  },
  {
   "cell_type": "code",
   "execution_count": 8,
   "metadata": {},
   "outputs": [],
   "source": [
    "category_id_to_name = {0: 'helmet', 1: 'IMPACT!'}\n",
    "import cv2\n",
    "import matplotlib.pyplot as plt\n",
    "\n",
    "HELMET_COLOR = (0, 255, 0) # Red\n",
    "IMPACT_COLOR = (255, 0, 0) # Green\n",
    "TEXT_COLOR = (255, 255, 255) # White\n",
    "\n",
    "\n",
    "def visualize_bbox(img, bbox, class_name, color, thickness=2, margin = 0.):\n",
    "    \"\"\"Visualizes a single bounding box on the image\"\"\"\n",
    "    x_min, y_min, x_max, y_max = bbox\n",
    "    x_min, x_max, y_min, y_max  = int(x_min), int(x_max),  int(y_min), int(y_max)\n",
    "    \n",
    "    cv2.rectangle(img, (x_min, y_min), (x_max, y_max), color=color, thickness=thickness)\n",
    "    return img\n",
    "\n",
    "\n",
    "def visualize(image, bboxes, category_ids, category_id_to_name):\n",
    "    img = image.copy()\n",
    "    for bbox, category_id in zip(bboxes, category_ids):\n",
    "        class_name = category_id_to_name[category_id]\n",
    "        \n",
    "        color = IMPACT_COLOR if category_id==1 else HELMET_COLOR\n",
    "        img = visualize_bbox(img, bbox, class_name, color)\n",
    "    plt.figure(figsize=(7, 7))\n",
    "    plt.axis('off')\n",
    "    plt.imshow(img)"
   ]
  },
  {
   "cell_type": "code",
   "execution_count": 9,
   "metadata": {},
   "outputs": [],
   "source": [
    "\n",
    "from dataset import ImpactDatasetRetriever"
   ]
  },
  {
   "cell_type": "code",
   "execution_count": 10,
   "metadata": {},
   "outputs": [],
   "source": [
    "import matplotlib.pyplot as plt\n"
   ]
  },
  {
   "cell_type": "code",
   "execution_count": 11,
   "metadata": {},
   "outputs": [],
   "source": [
    "\n",
    "#scheduler = create_optimizer(conf['optimizer'], model)\n",
    "def get_train_transforms():\n",
    "    return A.Compose(\n",
    "        [\n",
    "            A.Normalize(),\n",
    "            A.Resize(height=128, width=128, p=1),\n",
    "            ToTensorV2(p=1.0),\n",
    "        ]\n",
    "    )\n",
    "def get_valid_transforms():\n",
    "    return A.Compose(\n",
    "        [   \n",
    "            A.Normalize(),\n",
    "            A.Resize(height=128, width=128, p=1),\n",
    "            ToTensorV2(p=1.0),\n",
    "        ]\n",
    "    )\n",
    "\n",
    "\n",
    "\n",
    "\n"
   ]
  },
  {
   "cell_type": "code",
   "execution_count": 12,
   "metadata": {},
   "outputs": [],
   "source": [
    "\n",
    "from torch.nn.modules.loss import BCEWithLogitsLoss\n",
    "from torch.utils.data.sampler import SequentialSampler, RandomSampler"
   ]
  },
  {
   "cell_type": "code",
   "execution_count": null,
   "metadata": {},
   "outputs": [],
   "source": [
    "np.round([0.4,0.6,0.8], 0)#"
   ]
  },
  {
   "cell_type": "code",
   "execution_count": 13,
   "metadata": {},
   "outputs": [],
   "source": [
    "\n",
    "#device = torch.device('cuda:0')\n",
    "#model.to(device)\n",
    "\n",
    "\n",
    "reduction = \"mean\"\n",
    "loss_fn = BCEWithLogitsLoss(reduction=reduction)\n",
    "\n",
    "\n",
    "optimizer = optim.Adam(model.parameters(),\n",
    "                    lr=config.optimizer[\"learning_rate\"],\n",
    "                    weight_decay=config.optimizer[\"weight_decay\"])\n",
    "\n",
    "\n",
    "\n",
    "train_video_labels = pd.read_csv(f'../../data/{config.dataset_name}/train_video_labels.csv', index_col=0)\n",
    "val_video_labels = pd.read_csv(f'../../data/{config.dataset_name}/val_video_labels.csv',  index_col=0)\n",
    "image_dir = '../../data/train_images_all'\n",
    "\n",
    "\n",
    "train_dataset = ImpactDatasetRetriever(train_video_labels, image_dir, config, transforms=get_train_transforms(), test=False)\n",
    "validation_dataset = ImpactDatasetRetriever(val_video_labels, image_dir, config, transforms=get_valid_transforms(), test=True)"
   ]
  },
  {
   "cell_type": "code",
   "execution_count": 14,
   "metadata": {},
   "outputs": [],
   "source": [
    "\n",
    "train_loader = torch.utils.data.DataLoader(\n",
    "    train_dataset,\n",
    "    batch_size=config.batch_size,\n",
    "    sampler=RandomSampler(train_dataset),\n",
    "    num_workers=config.num_workers,\n",
    "    pin_memory=False,\n",
    "    drop_last=True,\n",
    "    #collate_fn=collate_fn,\n",
    ")\n",
    "val_loader = torch.utils.data.DataLoader(\n",
    "    validation_dataset,\n",
    "    batch_size=config.batch_size * 2,\n",
    "    sampler=SequentialSampler(validation_dataset),\n",
    "    num_workers=config.num_workers,\n",
    "    shuffle=False,\n",
    "    pin_memory=False,\n",
    "    #collate_fn=collate_fn,\n",
    ")\n"
   ]
  },
  {
   "cell_type": "code",
   "execution_count": 15,
   "metadata": {},
   "outputs": [],
   "source": [
    "output = train_dataset[1492]"
   ]
  },
  {
   "cell_type": "code",
   "execution_count": 16,
   "metadata": {},
   "outputs": [
    {
     "output_type": "stream",
     "name": "stderr",
     "text": [
      "Clipping input data to the valid range for imshow with RGB data ([0..1] for floats or [0..255] for integers).\n"
     ]
    },
    {
     "output_type": "execute_result",
     "data": {
      "text/plain": [
       "<matplotlib.image.AxesImage at 0x7f75e4b58780>"
      ]
     },
     "metadata": {},
     "execution_count": 16
    },
    {
     "output_type": "display_data",
     "data": {
      "text/plain": "<Figure size 432x288 with 1 Axes>",
      "image/svg+xml": "<?xml version=\"1.0\" encoding=\"utf-8\" standalone=\"no\"?>\n<!DOCTYPE svg PUBLIC \"-//W3C//DTD SVG 1.1//EN\"\n  \"http://www.w3.org/Graphics/SVG/1.1/DTD/svg11.dtd\">\n<!-- Created with matplotlib (https://matplotlib.org/) -->\n<svg height=\"251.467969pt\" version=\"1.1\" viewBox=\"0 0 257.9275 251.467969\" width=\"257.9275pt\" xmlns=\"http://www.w3.org/2000/svg\" xmlns:xlink=\"http://www.w3.org/1999/xlink\">\n <metadata>\n  <rdf:RDF xmlns:cc=\"http://creativecommons.org/ns#\" xmlns:dc=\"http://purl.org/dc/elements/1.1/\" xmlns:rdf=\"http://www.w3.org/1999/02/22-rdf-syntax-ns#\">\n   <cc:Work>\n    <dc:type rdf:resource=\"http://purl.org/dc/dcmitype/StillImage\"/>\n    <dc:date>2020-12-23T20:13:38.102396</dc:date>\n    <dc:format>image/svg+xml</dc:format>\n    <dc:creator>\n     <cc:Agent>\n      <dc:title>Matplotlib v3.3.3, https://matplotlib.org/</dc:title>\n     </cc:Agent>\n    </dc:creator>\n   </cc:Work>\n  </rdf:RDF>\n </metadata>\n <defs>\n  <style type=\"text/css\">*{stroke-linecap:butt;stroke-linejoin:round;}</style>\n </defs>\n <g id=\"figure_1\">\n  <g id=\"patch_1\">\n   <path d=\"M 0 251.467969 \nL 257.9275 251.467969 \nL 257.9275 0 \nL 0 0 \nz\n\" style=\"fill:none;\"/>\n  </g>\n  <g id=\"axes_1\">\n   <g id=\"patch_2\">\n    <path d=\"M 33.2875 227.589844 \nL 250.7275 227.589844 \nL 250.7275 10.149844 \nL 33.2875 10.149844 \nz\n\" style=\"fill:#ffffff;\"/>\n   </g>\n   <g clip-path=\"url(#pc4c5719b29)\">\n    <image height=\"218\" id=\"image35f0bceacd\" transform=\"scale(1 -1)translate(0 -218)\" width=\"218\" x=\"33.2875\" xlink:href=\"data:image/png;base64,\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\" y=\"-9.589844\"/>\n   </g>\n   <g id=\"matplotlib.axis_1\">\n    <g id=\"xtick_1\">\n     <g id=\"line2d_1\">\n      <defs>\n       <path d=\"M 0 0 \nL 0 3.5 \n\" id=\"m8f5ad60811\" style=\"stroke:#000000;stroke-width:0.8;\"/>\n      </defs>\n      <g>\n       <use style=\"stroke:#000000;stroke-width:0.8;\" x=\"34.136875\" xlink:href=\"#m8f5ad60811\" y=\"227.589844\"/>\n      </g>\n     </g>\n     <g id=\"text_1\">\n      <!-- 0 -->\n      <g transform=\"translate(30.955625 242.188281)scale(0.1 -0.1)\">\n       <defs>\n        <path d=\"M 31.78125 66.40625 \nQ 24.171875 66.40625 20.328125 58.90625 \nQ 16.5 51.421875 16.5 36.375 \nQ 16.5 21.390625 20.328125 13.890625 \nQ 24.171875 6.390625 31.78125 6.390625 \nQ 39.453125 6.390625 43.28125 13.890625 \nQ 47.125 21.390625 47.125 36.375 \nQ 47.125 51.421875 43.28125 58.90625 \nQ 39.453125 66.40625 31.78125 66.40625 \nz\nM 31.78125 74.21875 \nQ 44.046875 74.21875 50.515625 64.515625 \nQ 56.984375 54.828125 56.984375 36.375 \nQ 56.984375 17.96875 50.515625 8.265625 \nQ 44.046875 -1.421875 31.78125 -1.421875 \nQ 19.53125 -1.421875 13.0625 8.265625 \nQ 6.59375 17.96875 6.59375 36.375 \nQ 6.59375 54.828125 13.0625 64.515625 \nQ 19.53125 74.21875 31.78125 74.21875 \nz\n\" id=\"DejaVuSans-48\"/>\n       </defs>\n       <use xlink:href=\"#DejaVuSans-48\"/>\n      </g>\n     </g>\n    </g>\n    <g id=\"xtick_2\">\n     <g id=\"line2d_2\">\n      <g>\n       <use style=\"stroke:#000000;stroke-width:0.8;\" x=\"68.111875\" xlink:href=\"#m8f5ad60811\" y=\"227.589844\"/>\n      </g>\n     </g>\n     <g id=\"text_2\">\n      <!-- 20 -->\n      <g transform=\"translate(61.749375 242.188281)scale(0.1 -0.1)\">\n       <defs>\n        <path d=\"M 19.1875 8.296875 \nL 53.609375 8.296875 \nL 53.609375 0 \nL 7.328125 0 \nL 7.328125 8.296875 \nQ 12.9375 14.109375 22.625 23.890625 \nQ 32.328125 33.6875 34.8125 36.53125 \nQ 39.546875 41.84375 41.421875 45.53125 \nQ 43.3125 49.21875 43.3125 52.78125 \nQ 43.3125 58.59375 39.234375 62.25 \nQ 35.15625 65.921875 28.609375 65.921875 \nQ 23.96875 65.921875 18.8125 64.3125 \nQ 13.671875 62.703125 7.8125 59.421875 \nL 7.8125 69.390625 \nQ 13.765625 71.78125 18.9375 73 \nQ 24.125 74.21875 28.421875 74.21875 \nQ 39.75 74.21875 46.484375 68.546875 \nQ 53.21875 62.890625 53.21875 53.421875 \nQ 53.21875 48.921875 51.53125 44.890625 \nQ 49.859375 40.875 45.40625 35.40625 \nQ 44.1875 33.984375 37.640625 27.21875 \nQ 31.109375 20.453125 19.1875 8.296875 \nz\n\" id=\"DejaVuSans-50\"/>\n       </defs>\n       <use xlink:href=\"#DejaVuSans-50\"/>\n       <use x=\"63.623047\" xlink:href=\"#DejaVuSans-48\"/>\n      </g>\n     </g>\n    </g>\n    <g id=\"xtick_3\">\n     <g id=\"line2d_3\">\n      <g>\n       <use style=\"stroke:#000000;stroke-width:0.8;\" x=\"102.086875\" xlink:href=\"#m8f5ad60811\" y=\"227.589844\"/>\n      </g>\n     </g>\n     <g id=\"text_3\">\n      <!-- 40 -->\n      <g transform=\"translate(95.724375 242.188281)scale(0.1 -0.1)\">\n       <defs>\n        <path d=\"M 37.796875 64.3125 \nL 12.890625 25.390625 \nL 37.796875 25.390625 \nz\nM 35.203125 72.90625 \nL 47.609375 72.90625 \nL 47.609375 25.390625 \nL 58.015625 25.390625 \nL 58.015625 17.1875 \nL 47.609375 17.1875 \nL 47.609375 0 \nL 37.796875 0 \nL 37.796875 17.1875 \nL 4.890625 17.1875 \nL 4.890625 26.703125 \nz\n\" id=\"DejaVuSans-52\"/>\n       </defs>\n       <use xlink:href=\"#DejaVuSans-52\"/>\n       <use x=\"63.623047\" xlink:href=\"#DejaVuSans-48\"/>\n      </g>\n     </g>\n    </g>\n    <g id=\"xtick_4\">\n     <g id=\"line2d_4\">\n      <g>\n       <use style=\"stroke:#000000;stroke-width:0.8;\" x=\"136.061875\" xlink:href=\"#m8f5ad60811\" y=\"227.589844\"/>\n      </g>\n     </g>\n     <g id=\"text_4\">\n      <!-- 60 -->\n      <g transform=\"translate(129.699375 242.188281)scale(0.1 -0.1)\">\n       <defs>\n        <path d=\"M 33.015625 40.375 \nQ 26.375 40.375 22.484375 35.828125 \nQ 18.609375 31.296875 18.609375 23.390625 \nQ 18.609375 15.53125 22.484375 10.953125 \nQ 26.375 6.390625 33.015625 6.390625 \nQ 39.65625 6.390625 43.53125 10.953125 \nQ 47.40625 15.53125 47.40625 23.390625 \nQ 47.40625 31.296875 43.53125 35.828125 \nQ 39.65625 40.375 33.015625 40.375 \nz\nM 52.59375 71.296875 \nL 52.59375 62.3125 \nQ 48.875 64.0625 45.09375 64.984375 \nQ 41.3125 65.921875 37.59375 65.921875 \nQ 27.828125 65.921875 22.671875 59.328125 \nQ 17.53125 52.734375 16.796875 39.40625 \nQ 19.671875 43.65625 24.015625 45.921875 \nQ 28.375 48.1875 33.59375 48.1875 \nQ 44.578125 48.1875 50.953125 41.515625 \nQ 57.328125 34.859375 57.328125 23.390625 \nQ 57.328125 12.15625 50.6875 5.359375 \nQ 44.046875 -1.421875 33.015625 -1.421875 \nQ 20.359375 -1.421875 13.671875 8.265625 \nQ 6.984375 17.96875 6.984375 36.375 \nQ 6.984375 53.65625 15.1875 63.9375 \nQ 23.390625 74.21875 37.203125 74.21875 \nQ 40.921875 74.21875 44.703125 73.484375 \nQ 48.484375 72.75 52.59375 71.296875 \nz\n\" id=\"DejaVuSans-54\"/>\n       </defs>\n       <use xlink:href=\"#DejaVuSans-54\"/>\n       <use x=\"63.623047\" xlink:href=\"#DejaVuSans-48\"/>\n      </g>\n     </g>\n    </g>\n    <g id=\"xtick_5\">\n     <g id=\"line2d_5\">\n      <g>\n       <use style=\"stroke:#000000;stroke-width:0.8;\" x=\"170.036875\" xlink:href=\"#m8f5ad60811\" y=\"227.589844\"/>\n      </g>\n     </g>\n     <g id=\"text_5\">\n      <!-- 80 -->\n      <g transform=\"translate(163.674375 242.188281)scale(0.1 -0.1)\">\n       <defs>\n        <path d=\"M 31.78125 34.625 \nQ 24.75 34.625 20.71875 30.859375 \nQ 16.703125 27.09375 16.703125 20.515625 \nQ 16.703125 13.921875 20.71875 10.15625 \nQ 24.75 6.390625 31.78125 6.390625 \nQ 38.8125 6.390625 42.859375 10.171875 \nQ 46.921875 13.96875 46.921875 20.515625 \nQ 46.921875 27.09375 42.890625 30.859375 \nQ 38.875 34.625 31.78125 34.625 \nz\nM 21.921875 38.8125 \nQ 15.578125 40.375 12.03125 44.71875 \nQ 8.5 49.078125 8.5 55.328125 \nQ 8.5 64.0625 14.71875 69.140625 \nQ 20.953125 74.21875 31.78125 74.21875 \nQ 42.671875 74.21875 48.875 69.140625 \nQ 55.078125 64.0625 55.078125 55.328125 \nQ 55.078125 49.078125 51.53125 44.71875 \nQ 48 40.375 41.703125 38.8125 \nQ 48.828125 37.15625 52.796875 32.3125 \nQ 56.78125 27.484375 56.78125 20.515625 \nQ 56.78125 9.90625 50.3125 4.234375 \nQ 43.84375 -1.421875 31.78125 -1.421875 \nQ 19.734375 -1.421875 13.25 4.234375 \nQ 6.78125 9.90625 6.78125 20.515625 \nQ 6.78125 27.484375 10.78125 32.3125 \nQ 14.796875 37.15625 21.921875 38.8125 \nz\nM 18.3125 54.390625 \nQ 18.3125 48.734375 21.84375 45.5625 \nQ 25.390625 42.390625 31.78125 42.390625 \nQ 38.140625 42.390625 41.71875 45.5625 \nQ 45.3125 48.734375 45.3125 54.390625 \nQ 45.3125 60.0625 41.71875 63.234375 \nQ 38.140625 66.40625 31.78125 66.40625 \nQ 25.390625 66.40625 21.84375 63.234375 \nQ 18.3125 60.0625 18.3125 54.390625 \nz\n\" id=\"DejaVuSans-56\"/>\n       </defs>\n       <use xlink:href=\"#DejaVuSans-56\"/>\n       <use x=\"63.623047\" xlink:href=\"#DejaVuSans-48\"/>\n      </g>\n     </g>\n    </g>\n    <g id=\"xtick_6\">\n     <g id=\"line2d_6\">\n      <g>\n       <use style=\"stroke:#000000;stroke-width:0.8;\" x=\"204.011875\" xlink:href=\"#m8f5ad60811\" y=\"227.589844\"/>\n      </g>\n     </g>\n     <g id=\"text_6\">\n      <!-- 100 -->\n      <g transform=\"translate(194.468125 242.188281)scale(0.1 -0.1)\">\n       <defs>\n        <path d=\"M 12.40625 8.296875 \nL 28.515625 8.296875 \nL 28.515625 63.921875 \nL 10.984375 60.40625 \nL 10.984375 69.390625 \nL 28.421875 72.90625 \nL 38.28125 72.90625 \nL 38.28125 8.296875 \nL 54.390625 8.296875 \nL 54.390625 0 \nL 12.40625 0 \nz\n\" id=\"DejaVuSans-49\"/>\n       </defs>\n       <use xlink:href=\"#DejaVuSans-49\"/>\n       <use x=\"63.623047\" xlink:href=\"#DejaVuSans-48\"/>\n       <use x=\"127.246094\" xlink:href=\"#DejaVuSans-48\"/>\n      </g>\n     </g>\n    </g>\n    <g id=\"xtick_7\">\n     <g id=\"line2d_7\">\n      <g>\n       <use style=\"stroke:#000000;stroke-width:0.8;\" x=\"237.986875\" xlink:href=\"#m8f5ad60811\" y=\"227.589844\"/>\n      </g>\n     </g>\n     <g id=\"text_7\">\n      <!-- 120 -->\n      <g transform=\"translate(228.443125 242.188281)scale(0.1 -0.1)\">\n       <use xlink:href=\"#DejaVuSans-49\"/>\n       <use x=\"63.623047\" xlink:href=\"#DejaVuSans-50\"/>\n       <use x=\"127.246094\" xlink:href=\"#DejaVuSans-48\"/>\n      </g>\n     </g>\n    </g>\n   </g>\n   <g id=\"matplotlib.axis_2\">\n    <g id=\"ytick_1\">\n     <g id=\"line2d_8\">\n      <defs>\n       <path d=\"M 0 0 \nL -3.5 0 \n\" id=\"m86529a5ffb\" style=\"stroke:#000000;stroke-width:0.8;\"/>\n      </defs>\n      <g>\n       <use style=\"stroke:#000000;stroke-width:0.8;\" x=\"33.2875\" xlink:href=\"#m86529a5ffb\" y=\"10.999219\"/>\n      </g>\n     </g>\n     <g id=\"text_8\">\n      <!-- 0 -->\n      <g transform=\"translate(19.925 14.798438)scale(0.1 -0.1)\">\n       <use xlink:href=\"#DejaVuSans-48\"/>\n      </g>\n     </g>\n    </g>\n    <g id=\"ytick_2\">\n     <g id=\"line2d_9\">\n      <g>\n       <use style=\"stroke:#000000;stroke-width:0.8;\" x=\"33.2875\" xlink:href=\"#m86529a5ffb\" y=\"44.974219\"/>\n      </g>\n     </g>\n     <g id=\"text_9\">\n      <!-- 20 -->\n      <g transform=\"translate(13.5625 48.773438)scale(0.1 -0.1)\">\n       <use xlink:href=\"#DejaVuSans-50\"/>\n       <use x=\"63.623047\" xlink:href=\"#DejaVuSans-48\"/>\n      </g>\n     </g>\n    </g>\n    <g id=\"ytick_3\">\n     <g id=\"line2d_10\">\n      <g>\n       <use style=\"stroke:#000000;stroke-width:0.8;\" x=\"33.2875\" xlink:href=\"#m86529a5ffb\" y=\"78.949219\"/>\n      </g>\n     </g>\n     <g id=\"text_10\">\n      <!-- 40 -->\n      <g transform=\"translate(13.5625 82.748437)scale(0.1 -0.1)\">\n       <use xlink:href=\"#DejaVuSans-52\"/>\n       <use x=\"63.623047\" xlink:href=\"#DejaVuSans-48\"/>\n      </g>\n     </g>\n    </g>\n    <g id=\"ytick_4\">\n     <g id=\"line2d_11\">\n      <g>\n       <use style=\"stroke:#000000;stroke-width:0.8;\" x=\"33.2875\" xlink:href=\"#m86529a5ffb\" y=\"112.924219\"/>\n      </g>\n     </g>\n     <g id=\"text_11\">\n      <!-- 60 -->\n      <g transform=\"translate(13.5625 116.723438)scale(0.1 -0.1)\">\n       <use xlink:href=\"#DejaVuSans-54\"/>\n       <use x=\"63.623047\" xlink:href=\"#DejaVuSans-48\"/>\n      </g>\n     </g>\n    </g>\n    <g id=\"ytick_5\">\n     <g id=\"line2d_12\">\n      <g>\n       <use style=\"stroke:#000000;stroke-width:0.8;\" x=\"33.2875\" xlink:href=\"#m86529a5ffb\" y=\"146.899219\"/>\n      </g>\n     </g>\n     <g id=\"text_12\">\n      <!-- 80 -->\n      <g transform=\"translate(13.5625 150.698438)scale(0.1 -0.1)\">\n       <use xlink:href=\"#DejaVuSans-56\"/>\n       <use x=\"63.623047\" xlink:href=\"#DejaVuSans-48\"/>\n      </g>\n     </g>\n    </g>\n    <g id=\"ytick_6\">\n     <g id=\"line2d_13\">\n      <g>\n       <use style=\"stroke:#000000;stroke-width:0.8;\" x=\"33.2875\" xlink:href=\"#m86529a5ffb\" y=\"180.874219\"/>\n      </g>\n     </g>\n     <g id=\"text_13\">\n      <!-- 100 -->\n      <g transform=\"translate(7.2 184.673438)scale(0.1 -0.1)\">\n       <use xlink:href=\"#DejaVuSans-49\"/>\n       <use x=\"63.623047\" xlink:href=\"#DejaVuSans-48\"/>\n       <use x=\"127.246094\" xlink:href=\"#DejaVuSans-48\"/>\n      </g>\n     </g>\n    </g>\n    <g id=\"ytick_7\">\n     <g id=\"line2d_14\">\n      <g>\n       <use style=\"stroke:#000000;stroke-width:0.8;\" x=\"33.2875\" xlink:href=\"#m86529a5ffb\" y=\"214.849219\"/>\n      </g>\n     </g>\n     <g id=\"text_14\">\n      <!-- 120 -->\n      <g transform=\"translate(7.2 218.648438)scale(0.1 -0.1)\">\n       <use xlink:href=\"#DejaVuSans-49\"/>\n       <use x=\"63.623047\" xlink:href=\"#DejaVuSans-50\"/>\n       <use x=\"127.246094\" xlink:href=\"#DejaVuSans-48\"/>\n      </g>\n     </g>\n    </g>\n   </g>\n   <g id=\"patch_3\">\n    <path d=\"M 33.2875 227.589844 \nL 33.2875 10.149844 \n\" style=\"fill:none;stroke:#000000;stroke-linecap:square;stroke-linejoin:miter;stroke-width:0.8;\"/>\n   </g>\n   <g id=\"patch_4\">\n    <path d=\"M 250.7275 227.589844 \nL 250.7275 10.149844 \n\" style=\"fill:none;stroke:#000000;stroke-linecap:square;stroke-linejoin:miter;stroke-width:0.8;\"/>\n   </g>\n   <g id=\"patch_5\">\n    <path d=\"M 33.2875 227.589844 \nL 250.7275 227.589844 \n\" style=\"fill:none;stroke:#000000;stroke-linecap:square;stroke-linejoin:miter;stroke-width:0.8;\"/>\n   </g>\n   <g id=\"patch_6\">\n    <path d=\"M 33.2875 10.149844 \nL 250.7275 10.149844 \n\" style=\"fill:none;stroke:#000000;stroke-linecap:square;stroke-linejoin:miter;stroke-width:0.8;\"/>\n   </g>\n  </g>\n </g>\n <defs>\n  <clipPath id=\"pc4c5719b29\">\n   <rect height=\"217.44\" width=\"217.44\" x=\"33.2875\" y=\"10.149844\"/>\n  </clipPath>\n </defs>\n</svg>\n",
      "image/png": "[encoded data removed]"
     },
     "metadata": {
      "needs_background": "light"
     }
    }
   ],
   "source": [
    "plt.imshow(output['image'].permute(1,2,0).cpu().numpy().astype(int))#.shape"
   ]
  },
  {
   "cell_type": "code",
   "execution_count": 17,
   "metadata": {},
   "outputs": [],
   "source": [
    "batch = next(iter(train_loader))"
   ]
  },
  {
   "cell_type": "code",
   "execution_count": 18,
   "metadata": {},
   "outputs": [
    {
     "output_type": "error",
     "ename": "NameError",
     "evalue": "name 'imgs' is not defined",
     "traceback": [
      "\u001b[0;31m---------------------------------------------------------------------------\u001b[0m",
      "\u001b[0;31mNameError\u001b[0m                                 Traceback (most recent call last)",
      "\u001b[0;32m<ipython-input-18-ea542cc2be53>\u001b[0m in \u001b[0;36m<module>\u001b[0;34m\u001b[0m\n\u001b[0;32m----> 1\u001b[0;31m \u001b[0mimgs\u001b[0m\u001b[0;34m.\u001b[0m\u001b[0mshape\u001b[0m\u001b[0;34m\u001b[0m\u001b[0m\n\u001b[0m",
      "\u001b[0;31mNameError\u001b[0m: name 'imgs' is not defined"
     ]
    }
   ],
   "source": [
    "imgs.shape"
   ]
  },
  {
   "cell_type": "code",
   "execution_count": 24,
   "metadata": {},
   "outputs": [],
   "source": [
    "imgs = batch[\"image\"].to(device)\n",
    "labels = batch[\"label\"].to(device).float()"
   ]
  },
  {
   "cell_type": "code",
   "execution_count": 20,
   "metadata": {},
   "outputs": [
    {
     "output_type": "stream",
     "name": "stdout",
     "text": [
      "Wed Dec 23 20:13:42 2020       \n+-----------------------------------------------------------------------------+\n| NVIDIA-SMI 455.45.01    Driver Version: 455.45.01    CUDA Version: 11.1     |\n|-------------------------------+----------------------+----------------------+\n| GPU  Name        Persistence-M| Bus-Id        Disp.A | Volatile Uncorr. ECC |\n| Fan  Temp  Perf  Pwr:Usage/Cap|         Memory-Usage | GPU-Util  Compute M. |\n|                               |                      |               MIG M. |\n|===============================+======================+======================|\n|   0  GeForce RTX 3080    On   | 00000000:05:00.0 Off |                  N/A |\n|  0%   25C    P2    83W / 370W |   1360MiB / 10018MiB |      0%      Default |\n|                               |                      |                  N/A |\n+-------------------------------+----------------------+----------------------+\n|   1  GeForce RTX 3080    On   | 00000000:0A:00.0 Off |                  N/A |\n|  0%   34C    P2    92W / 320W |   1614MiB / 10016MiB |      0%      Default |\n|                               |                      |                  N/A |\n+-------------------------------+----------------------+----------------------+\n                                                                               \n+-----------------------------------------------------------------------------+\n| Processes:                                                                  |\n|  GPU   GI   CI        PID   Type   Process name                  GPU Memory |\n|        ID   ID                                                   Usage      |\n|=============================================================================|\n|    0   N/A  N/A     19902      C   ...v/versions/nfl/bin/python     1357MiB |\n|    1   N/A  N/A     19902      C   ...v/versions/nfl/bin/python     1611MiB |\n+-----------------------------------------------------------------------------+\n"
     ]
    }
   ],
   "source": [
    "!nvidia-smi"
   ]
  },
  {
   "cell_type": "code",
   "execution_count": 22,
   "metadata": {},
   "outputs": [],
   "source": [
    "out_labels = model(imgs.to(device))"
   ]
  },
  {
   "cell_type": "code",
   "execution_count": 25,
   "metadata": {},
   "outputs": [],
   "source": [
    "impact_loss = 0\n",
    "no_impact_loss = 0\n",
    "impact_idx = labels > 0.5\n",
    "no_impact_idx = labels <= 0.5\n",
    "\n",
    "if torch.sum(impact_idx * 1) > 0:\n",
    "    impact_loss = loss_fn(out_labels[impact_idx], labels[impact_idx])\n",
    "if torch.sum(no_impact_idx * 1) > 0:\n",
    "    no_impact_loss = loss_fn(out_labels[no_impact_idx], labels[no_impact_idx])\n",
    "\n",
    "\n",
    "loss = (impact_loss + no_impact_loss) / 2"
   ]
  },
  {
   "cell_type": "code",
   "execution_count": 31,
   "metadata": {},
   "outputs": [
    {
     "output_type": "execute_result",
     "data": {
      "text/plain": [
       "array([1])"
      ]
     },
     "metadata": {},
     "execution_count": 31
    }
   ],
   "source": [
    "np.round(np.array([0.9]),0).astype(int)"
   ]
  },
  {
   "cell_type": "code",
   "execution_count": 26,
   "metadata": {},
   "outputs": [
    {
     "output_type": "execute_result",
     "data": {
      "text/plain": [
       "tensor(0.7210, device='cuda:1', grad_fn=<BinaryCrossEntropyWithLogitsBackward>)"
      ]
     },
     "metadata": {},
     "execution_count": 26
    }
   ],
   "source": [
    "impact_loss"
   ]
  },
  {
   "cell_type": "code",
   "execution_count": 27,
   "metadata": {},
   "outputs": [
    {
     "output_type": "execute_result",
     "data": {
      "text/plain": [
       "tensor(0.6553, device='cuda:1', grad_fn=<BinaryCrossEntropyWithLogitsBackward>)"
      ]
     },
     "metadata": {},
     "execution_count": 27
    }
   ],
   "source": [
    "no_impact_loss"
   ]
  },
  {
   "cell_type": "code",
   "execution_count": 24,
   "metadata": {},
   "outputs": [
    {
     "output_type": "execute_result",
     "data": {
      "text/plain": [
       "tensor([[-0.0091],\n",
       "        [ 0.0917],\n",
       "        [-0.1853],\n",
       "        [ 0.2040],\n",
       "        [-0.1179],\n",
       "        [-0.0337],\n",
       "        [ 0.4074],\n",
       "        [-0.1041],\n",
       "        [ 0.1090],\n",
       "        [-0.3803],\n",
       "        [-0.1158],\n",
       "        [-0.1436],\n",
       "        [ 0.0816],\n",
       "        [ 0.0236],\n",
       "        [-0.2435],\n",
       "        [-0.1273],\n",
       "        [ 0.3129],\n",
       "        [-0.3273],\n",
       "        [ 0.1999],\n",
       "        [ 0.2194],\n",
       "        [ 0.1285],\n",
       "        [ 0.2241],\n",
       "        [-0.1114],\n",
       "        [ 0.1605],\n",
       "        [ 0.0174],\n",
       "        [-0.0521],\n",
       "        [ 0.2118],\n",
       "        [ 0.1975],\n",
       "        [-0.0733],\n",
       "        [ 0.0604],\n",
       "        [-0.1224],\n",
       "        [-0.0969]], device='cuda:1', grad_fn=<AddmmBackward>)"
      ]
     },
     "metadata": {},
     "execution_count": 24
    }
   ],
   "source": [
    "output"
   ]
  },
  {
   "cell_type": "code",
   "execution_count": 22,
   "metadata": {},
   "outputs": [
    {
     "output_type": "execute_result",
     "data": {
      "text/plain": [
       "'\\ndef create_train_transforms(size=300):\\n    return Compose([\\n        ImageCompression(quality_lower=60, quality_upper=100, p=0.5),\\n        GaussNoise(p=0.1),\\n        GaussianBlur(blur_limit=3, p=0.05),\\n        HorizontalFlip(),\\n        OneOf([\\n            IsotropicResize(max_side=size, interpolation_down=cv2.INTER_AREA, interpolation_up=cv2.INTER_CUBIC),\\n            IsotropicResize(max_side=size, interpolation_down=cv2.INTER_AREA, interpolation_up=cv2.INTER_LINEAR),\\n            IsotropicResize(max_side=size, interpolation_down=cv2.INTER_LINEAR, interpolation_up=cv2.INTER_LINEAR),\\n        ], p=1),\\n        PadIfNeeded(min_height=size, min_width=size, border_mode=cv2.BORDER_CONSTANT),\\n        OneOf([RandomBrightnessContrast(), FancyPCA(), HueSaturationValue()], p=0.7),\\n        ToGray(p=0.2),\\n        ShiftScaleRotate(shift_limit=0.1, scale_limit=0.2, rotate_limit=10, border_mode=cv2.BORDER_CONSTANT, p=0.5),\\n    ]\\n    )\\n\\n\\ndef create_val_transforms(size=300):\\n    return Compose([\\n        IsotropicResize(max_side=size, interpolation_down=cv2.INTER_AREA, interpolation_up=cv2.INTER_CUBIC),\\n        PadIfNeeded(min_height=size, min_width=size, border_mode=cv2.BORDER_CONSTANT),\\n    ])\\n'"
      ]
     },
     "metadata": {},
     "execution_count": 22
    }
   ],
   "source": [
    "\"\"\"\n",
    "def create_train_transforms(size=300):\n",
    "    return Compose([\n",
    "        ImageCompression(quality_lower=60, quality_upper=100, p=0.5),\n",
    "        GaussNoise(p=0.1),\n",
    "        GaussianBlur(blur_limit=3, p=0.05),\n",
    "        HorizontalFlip(),\n",
    "        OneOf([\n",
    "            IsotropicResize(max_side=size, interpolation_down=cv2.INTER_AREA, interpolation_up=cv2.INTER_CUBIC),\n",
    "            IsotropicResize(max_side=size, interpolation_down=cv2.INTER_AREA, interpolation_up=cv2.INTER_LINEAR),\n",
    "            IsotropicResize(max_side=size, interpolation_down=cv2.INTER_LINEAR, interpolation_up=cv2.INTER_LINEAR),\n",
    "        ], p=1),\n",
    "        PadIfNeeded(min_height=size, min_width=size, border_mode=cv2.BORDER_CONSTANT),\n",
    "        OneOf([RandomBrightnessContrast(), FancyPCA(), HueSaturationValue()], p=0.7),\n",
    "        ToGray(p=0.2),\n",
    "        ShiftScaleRotate(shift_limit=0.1, scale_limit=0.2, rotate_limit=10, border_mode=cv2.BORDER_CONSTANT, p=0.5),\n",
    "    ]\n",
    "    )\n",
    "\n",
    "\n",
    "def create_val_transforms(size=300):\n",
    "    return Compose([\n",
    "        IsotropicResize(max_side=size, interpolation_down=cv2.INTER_AREA, interpolation_up=cv2.INTER_CUBIC),\n",
    "        PadIfNeeded(min_height=size, min_width=size, border_mode=cv2.BORDER_CONSTANT),\n",
    "    ])\n",
    "\"\"\""
   ]
  },
  {
   "cell_type": "code",
   "execution_count": null,
   "metadata": {},
   "outputs": [],
   "source": []
  }
 ]
}